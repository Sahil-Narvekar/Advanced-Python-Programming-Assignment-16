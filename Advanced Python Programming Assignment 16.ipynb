{
 "cells": [
  {
   "cell_type": "code",
   "execution_count": null,
   "metadata": {},
   "outputs": [],
   "source": [
    "1. Rondo Form is a type of musical structure, in which there is a recurring theme/refrain, notated as A. Here are the rules for valid rondo forms:\n",
    "\n",
    "   - Rondo forms always start and end with an A section.\n",
    "   - In between the A sections, there should be contrasting sections notated as B, then C, then D, etc...\n",
    "    No letter should be skipped.\n",
    "   - There shouldn't be any repeats in the sequence (such as ABBACCA).\n",
    "\n",
    "Create a function which validates whether a given string is a valid Rondo Form.\n",
    "\n",
    "Examples\n",
    "\n",
    "valid_rondo(\"ABACADAEAFAGAHAIAJA\") ➞ True\n",
    "\n",
    "valid_rondo(\"ABA\") ➞ True\n",
    "\n",
    "valid_rondo(\"ABBACCA\") ➞ False\n",
    "\n",
    "valid_rondo(\"ACAC\") ➞ False\n",
    "\n",
    "valid_rondo(\"A\") ➞ False\n"
   ]
  },
  {
   "cell_type": "code",
   "execution_count": 42,
   "metadata": {},
   "outputs": [
    {
     "name": "stdout",
     "output_type": "stream",
     "text": [
      "Enter the string in capitals ABACADAEAFAGAHA\n"
     ]
    },
    {
     "data": {
      "text/plain": [
       "True"
      ]
     },
     "execution_count": 42,
     "metadata": {},
     "output_type": "execute_result"
    }
   ],
   "source": [
    "s=input('Enter the string in capitals ')\n",
    "if not s.isupper():\n",
    "    print('Wrong entry')\n",
    "    s=input('Enter the string again in capitals ')\n",
    "def valid_rondo(f):\n",
    "    j='BCDEFGHIJKLMNOPQRSTUVWXYZ'\n",
    "    if len(f)%2==0 or len(f)<=1:\n",
    "        return(False)\n",
    "    f=[i for i in f]\n",
    "    n=''\n",
    "    if f.count('A')!=(len(f)+1)/2:\n",
    "        return(False)\n",
    "    for i in range(len(f)):\n",
    "        if i <=(len(f)-1) and i%2!=0:\n",
    "            n+=(f[i])\n",
    "        if f[i]=='A' and i%2!=0:\n",
    "            return(False) \n",
    "    j=j[:len(n)]\n",
    "    for i in range(len(n)):\n",
    "        if n[i]!=j[i]:\n",
    "            return (False)\n",
    "    return(True)\n",
    "valid_rondo(s)\n",
    "    "
   ]
  },
  {
   "cell_type": "code",
   "execution_count": null,
   "metadata": {},
   "outputs": [],
   "source": [
    "2. Create a function that returns the whole of the first sentence which contains a specific word. Include\n",
    "the full stop at the end of the sentence.\n",
    "\n",
    "Examples\n",
    "\n",
    "txt = \"I have a cat. I have a mat. Things are going swell.\"\n",
    "\n",
    "sentence_searcher(txt, \"have\") ➞ \"I have a cat.\"\n",
    "\n",
    "sentence_searcher(txt, \"MAT\") ➞ \"I have a mat.\"\n",
    "\n",
    "sentence_searcher(txt, \"things\") ➞ \"Things are going swell.\"\n",
    "\n",
    "sentence_searcher(txt, \"flat\") ➞ \"\"\n"
   ]
  },
  {
   "cell_type": "code",
   "execution_count": 69,
   "metadata": {},
   "outputs": [
    {
     "name": "stdout",
     "output_type": "stream",
     "text": [
      "Enter the string and the word\"I have a cat. I have a mat. Things are going swell.\",Have\n"
     ]
    },
    {
     "data": {
      "text/plain": [
       "'I have a cat.'"
      ]
     },
     "execution_count": 69,
     "metadata": {},
     "output_type": "execute_result"
    }
   ],
   "source": [
    "txt = input('Enter the string and the word')\n",
    "def sentence_searcher(txt):\n",
    "    txt=txt.replace('\"','').replace(\"'\",'').split(',')\n",
    "    a=txt[0].split('.')\n",
    "    for i in a:\n",
    "        g=txt[1].lower()\n",
    "        j=i.split(' ')\n",
    "        if g in j:\n",
    "            return(i+'.')    \n",
    "    return('')\n",
    "        \n",
    "sentence_searcher(txt)"
   ]
  },
  {
   "cell_type": "code",
   "execution_count": null,
   "metadata": {},
   "outputs": [],
   "source": []
  }
 ],
 "metadata": {
  "kernelspec": {
   "display_name": "Python 3",
   "language": "python",
   "name": "python3"
  },
  "language_info": {
   "codemirror_mode": {
    "name": "ipython",
    "version": 3
   },
   "file_extension": ".py",
   "mimetype": "text/x-python",
   "name": "python",
   "nbconvert_exporter": "python",
   "pygments_lexer": "ipython3",
   "version": "3.8.3"
  }
 },
 "nbformat": 4,
 "nbformat_minor": 4
}
